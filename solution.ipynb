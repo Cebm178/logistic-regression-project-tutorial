{
    "cells": [
        {
            "cell_type": "markdown",
            "metadata": {},
            "source": [
                "# Banking marketing campaign solution"
            ]
        },
        {
            "cell_type": "markdown",
            "metadata": {},
            "source": [
                "## Express EDA\n",
                "\n",
                "This solution does not go deep into EDA, but includes the minimum code to process the data before modeling."
            ]
        },
        {
            "cell_type": "code",
            "execution_count": null,
            "metadata": {},
            "outputs": [],
            "source": [
                "import pandas as pd\n",
                "\n",
                "total_data = pd.read_csv(\"https://raw.githubusercontent.com/4GeeksAcademy/logistic-regression-project-tutorial/main/bank-marketing-campaign-data.csv\", sep = \";\")\n",
                "total_data.head()"
            ]
        },
        {
            "cell_type": "code",
            "execution_count": null,
            "metadata": {},
            "outputs": [],
            "source": [
                "total_data = total_data.drop_duplicates().reset_index(drop = True)\n",
                "total_data.head()"
            ]
        },
        {
            "cell_type": "code",
            "execution_count": null,
            "metadata": {},
            "outputs": [],
            "source": [
                "total_data.isnull().sum()"
            ]
        },
        {
            "cell_type": "code",
            "execution_count": null,
            "metadata": {},
            "outputs": [],
            "source": [
                "# Min-Max scaler\n",
                "\n",
                "from sklearn.preprocessing import MinMaxScaler\n",
                "\n",
                "total_data[\"job_n\"] = pd.factorize(total_data[\"job\"])[0]\n",
                "total_data[\"marital_n\"] = pd.factorize(total_data[\"marital\"])[0]\n",
                "total_data[\"education_n\"] = pd.factorize(total_data[\"education\"])[0]\n",
                "total_data[\"default_n\"] = pd.factorize(total_data[\"default\"])[0]\n",
                "total_data[\"housing_n\"] = pd.factorize(total_data[\"housing\"])[0]\n",
                "total_data[\"loan_n\"] = pd.factorize(total_data[\"loan\"])[0]\n",
                "total_data[\"contact_n\"] = pd.factorize(total_data[\"contact\"])[0]\n",
                "total_data[\"month_n\"] = pd.factorize(total_data[\"month\"])[0]\n",
                "total_data[\"day_of_week_n\"] = pd.factorize(total_data[\"day_of_week\"])[0]\n",
                "total_data[\"poutcome_n\"] = pd.factorize(total_data[\"poutcome\"])[0]\n",
                "total_data[\"y_n\"] = pd.factorize(total_data[\"y\"])[0]\n",
                "num_variables = [\"job_n\", \"marital_n\", \"education_n\", \"default_n\", \"housing_n\", \"loan_n\", \"contact_n\", \"month_n\", \"day_of_week_n\", \"poutcome_n\",\n",
                "                 \"age\", \"duration\", \"campaign\", \"pdays\", \"previous\", \"emp.var.rate\", \"cons.price.idx\", \"cons.conf.idx\", \"euribor3m\", \"nr.employed\", \"y_n\"]\n",
                "\n",
                "scaler = MinMaxScaler()\n",
                "scal_features = scaler.fit_transform(total_data[num_variables])\n",
                "total_data_scal = pd.DataFrame(scal_features, index = total_data.index, columns = num_variables)\n",
                "total_data_scal.head()"
            ]
        },
        {
            "cell_type": "code",
            "execution_count": null,
            "metadata": {},
            "outputs": [],
            "source": [
                "# Feature selection\n",
                "\n",
                "from sklearn.feature_selection import chi2, SelectKBest\n",
                "from sklearn.model_selection import train_test_split\n",
                "\n",
                "X = total_data_scal.drop(\"y_n\", axis = 1)\n",
                "y = total_data_scal[\"y_n\"]\n",
                "\n",
                "X_train, X_test, y_train, y_test = train_test_split(X, y, test_size = 0.1, random_state = 42)\n",
                "\n",
                "selection_model = SelectKBest(chi2, k = 5)\n",
                "selection_model.fit(X_train, y_train)\n",
                "ix = selection_model.get_support()\n",
                "X_train_sel = pd.DataFrame(selection_model.transform(X_train), columns = X_train.columns.values[ix])\n",
                "X_test_sel = pd.DataFrame(selection_model.transform(X_test), columns = X_test.columns.values[ix])\n",
                "\n",
                "X_train_sel.head()"
            ]
        },
        {
            "cell_type": "code",
            "execution_count": null,
            "metadata": {},
            "outputs": [],
            "source": [
                "X_test_sel.head()"
            ]
        },
        {
            "cell_type": "code",
            "execution_count": null,
            "metadata": {},
            "outputs": [],
            "source": [
                "X_train_sel[\"y_n\"] = list(y_train)\n",
                "X_test_sel[\"y_n\"] = list(y_test)\n",
                "X_train_sel.to_csv(\"../data/processed/clean_train.csv\", index = False)\n",
                "X_test_sel.to_csv(\"../data/processed/clean_test.csv\", index = False)"
            ]
        },
        {
            "cell_type": "markdown",
            "metadata": {},
            "source": [
                "## Logistic Regression model"
            ]
        },
        {
            "cell_type": "code",
            "execution_count": null,
            "metadata": {},
            "outputs": [],
            "source": [
                "train_data = pd.read_csv(\"../data/processed/clean_train.csv\")\n",
                "test_data = pd.read_csv(\"../data/processed/clean_test.csv\")\n",
                "\n",
                "train_data.head()"
            ]
        },
        {
            "cell_type": "code",
            "execution_count": 9,
            "metadata": {},
            "outputs": [],
            "source": [
                "X_train = train_data.drop([\"y_n\"], axis = 1)\n",
                "y_train = train_data[\"y_n\"]\n",
                "X_test = test_data.drop([\"y_n\"], axis = 1)\n",
                "y_test = test_data[\"y_n\"]"
            ]
        },
        {
            "cell_type": "code",
            "execution_count": null,
            "metadata": {},
            "outputs": [],
            "source": [
                "from sklearn.linear_model import LogisticRegression\n",
                "\n",
                "model = LogisticRegression()\n",
                "model.fit(X_train, y_train)"
            ]
        },
        {
            "cell_type": "code",
            "execution_count": null,
            "metadata": {},
            "outputs": [],
            "source": [
                "y_pred = model.predict(X_test)\n",
                "y_pred"
            ]
        },
        {
            "cell_type": "code",
            "execution_count": null,
            "metadata": {},
            "outputs": [],
            "source": [
                "from sklearn.metrics import accuracy_score\n",
                "\n",
                "accuracy_score(y_test, y_pred)"
            ]
        },
        {
            "cell_type": "markdown",
            "metadata": {},
            "source": [
                "## Model optimization"
            ]
        },
        {
            "cell_type": "code",
            "execution_count": null,
            "metadata": {},
            "outputs": [],
            "source": [
                "from sklearn.model_selection import GridSearchCV\n",
                "\n",
                "hyperparams = {\n",
                "    \"C\": [0.001, 0.01, 0.1, 1, 10, 100, 1000],\n",
                "    \"penalty\": [\"l1\", \"l2\", \"elasticnet\", None],\n",
                "    \"solver\": [\"newton-cg\", \"lbfgs\", \"liblinear\", \"sag\", \"saga\"]\n",
                "}\n",
                "\n",
                "grid = GridSearchCV(model, hyperparams, scoring = \"accuracy\", cv = 10)\n",
                "grid"
            ]
        },
        {
            "cell_type": "code",
            "execution_count": null,
            "metadata": {},
            "outputs": [],
            "source": [
                "def warn(*args, **kwargs):\n",
                "    pass\n",
                "import warnings\n",
                "warnings.warn = warn\n",
                "\n",
                "grid.fit(X_train, y_train)\n",
                "\n",
                "print(f\"Best hyperparameters: {grid.best_params_}\")"
            ]
        },
        {
            "cell_type": "code",
            "execution_count": null,
            "metadata": {},
            "outputs": [],
            "source": [
                "model = LogisticRegression(C = 0.1, penalty = \"l2\", solver = \"liblinear\")\n",
                "model.fit(X_train, y_train)"
            ]
        },
        {
            "cell_type": "code",
            "execution_count": null,
            "metadata": {},
            "outputs": [],
            "source": [
                "y_pred = model.predict(X_test)\n",
                "y_pred"
            ]
        },
        {
            "cell_type": "code",
            "execution_count": null,
            "metadata": {},
            "outputs": [],
            "source": [
                "accuracy_score(y_test, y_pred)"
            ]
        },
        {
            "cell_type": "code",
            "execution_count": 18,
            "metadata": {},
            "outputs": [],
            "source": [
                "from pickle import dump\n",
                "\n",
                "dump(model, open(\"../models/logistic_regression_C-0.1_penalty-l2_solver-liblinear_42.sav\", \"wb\"))"
            ]
        }
    ],
    "metadata": {
        "kernelspec": {
            "display_name": "Python 3.8.13 64-bit ('3.8.13')",
            "language": "python",
            "name": "python3"
        },
        "language_info": {
            "codemirror_mode": {
                "name": "ipython",
                "version": 3
            },
            "file_extension": ".py",
            "mimetype": "text/x-python",
            "name": "python",
            "nbconvert_exporter": "python",
            "pygments_lexer": "ipython3",
            "version": "3.12.1"
        },
        "orig_nbformat": 4,
        "vscode": {
            "interpreter": {
                "hash": "110cc1dee26208153f2972f08a2ad52b6a56238dc66d48e87fb757ef2996db56"
            }
        }
    },
    "nbformat": 4,
    "nbformat_minor": 2
}
